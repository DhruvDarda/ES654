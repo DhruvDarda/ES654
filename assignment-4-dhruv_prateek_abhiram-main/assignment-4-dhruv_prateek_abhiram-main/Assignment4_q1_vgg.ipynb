{
  "cells": [
    {
      "cell_type": "markdown",
      "source": [
        "https://colab.research.google.com/drive/1xcQWHsQUegRIRWYYUOCO66HOt0Y6qeHL?usp=sharing"
      ],
      "metadata": {
        "id": "Iq51iAuXCo-i"
      }
    },
    {
      "cell_type": "code",
      "execution_count": null,
      "metadata": {
        "colab": {
          "base_uri": "https://localhost:8080/"
        },
        "id": "gxrrbrPOb89Q",
        "outputId": "afd4a391-fb5c-4eea-9999-c16967198e40"
      },
      "outputs": [
        {
          "output_type": "stream",
          "name": "stdout",
          "text": [
            "NVIDIA-SMI has failed because it couldn't communicate with the NVIDIA driver. Make sure that the latest NVIDIA driver is installed and running.\n",
            "\n"
          ]
        },
        {
          "output_type": "execute_result",
          "data": {
            "text/plain": [
              "OrderedDict()"
            ]
          },
          "metadata": {},
          "execution_count": 1
        }
      ],
      "source": [
        "import torch\n",
        "!nvidia-smi\n",
        "device = torch.device(\"cuda\" if torch.cuda.is_available() else \"cpu\")\n",
        "torch.cuda.memory_stats()"
      ]
    },
    {
      "cell_type": "code",
      "execution_count": null,
      "metadata": {
        "id": "eA0NmU0ZhIEi"
      },
      "outputs": [],
      "source": [
        "import os\n",
        "import numpy as np\n",
        "import matplotlib.pyplot as plt\n",
        "import time\n",
        "from  datetime import datetime\n",
        "\n",
        "np.random.seed(42)"
      ]
    },
    {
      "cell_type": "code",
      "execution_count": null,
      "metadata": {
        "colab": {
          "base_uri": "https://localhost:8080/"
        },
        "id": "c9vuBSCQhln9",
        "outputId": "5dcfbcea-7fae-4f0a-9516-00a8a6c5eb2f"
      },
      "outputs": [
        {
          "output_type": "execute_result",
          "data": {
            "text/plain": [
              "<torch._C.Generator at 0x7f97dca75f10>"
            ]
          },
          "metadata": {},
          "execution_count": 3
        }
      ],
      "source": [
        "import torch\n",
        "from torch import nn\n",
        "import torchvision\n",
        "from torchvision import datasets, models, transforms\n",
        "from torchvision.transforms import ToTensor, Lambda, Compose\n",
        "import torch.optim as optim\n",
        "from torch.utils.tensorboard import SummaryWriter\n",
        "\n",
        "torch.manual_seed(17)"
      ]
    },
    {
      "cell_type": "code",
      "execution_count": null,
      "metadata": {
        "id": "0C_Ua0HOZLo4"
      },
      "outputs": [],
      "source": [
        "def setup():\n",
        "  from google.colab import drive\n",
        "  #drive.flush_and_unmount()\n",
        "  drive.mount('/content/gdrive')\n",
        "\n",
        "  os.environ['KAGGLE_CONFIG_DIR'] = \"/content/gdrive/My Drive/Kaggle/ML_Assignment4\"\n",
        "\n",
        "  %cd /content/gdrive/My Drive/Kaggle/ML_Assignment4\n",
        "  path = %pwd\n",
        "  PATH_tr = os.path.join(path, 'savetr_vgg.pt')\n",
        "  PATH_te = os.path.join(path, 'savete_vgg.pt')\n",
        "\n",
        "  return PATH_tr, PATH_te"
      ]
    },
    {
      "cell_type": "code",
      "execution_count": null,
      "metadata": {
        "id": "AcGyoNJKgiCL"
      },
      "outputs": [],
      "source": [
        "def no_transforms(datadir, valid_size = .2):\n",
        "    train_transforms = transforms.Compose([\n",
        " transforms.Resize(256),                   \n",
        " transforms.CenterCrop(224),               \n",
        " transforms.ToTensor(),                    \n",
        " transforms.Normalize(                     \n",
        " mean=[0.485, 0.456, 0.406],               \n",
        " std=[0.229, 0.224, 0.225]                 \n",
        " )])\n",
        "    \n",
        "    test_transforms = transforms.Compose([\n",
        " transforms.Resize(256),                   \n",
        " transforms.CenterCrop(224),               \n",
        " transforms.ToTensor()])\n",
        " \n",
        "    train_data = datasets.ImageFolder(datadir,       \n",
        "                    transform=train_transforms)\n",
        "    test_data = datasets.ImageFolder(datadir,\n",
        "                    transform=test_transforms)\n",
        "    num_train = len(train_data)\n",
        "    indices = list(range(num_train))\n",
        "    split = int(np.floor(valid_size * num_train))\n",
        "    np.random.shuffle(indices)\n",
        "    from torch.utils.data.sampler import SubsetRandomSampler\n",
        "    train_idx, test_idx = indices[split:], indices[:split]\n",
        "    train_sampler = SubsetRandomSampler(train_idx)\n",
        "    test_sampler = SubsetRandomSampler(test_idx)\n",
        "    trainloader = torch.utils.data.DataLoader(train_data,\n",
        "                   sampler=train_sampler, batch_size=batch_size, num_workers = 2)\n",
        "    testloader = torch.utils.data.DataLoader(test_data,\n",
        "                   sampler=test_sampler, batch_size=batch_size, num_workers = 2)\n",
        "    return len(train_idx), len(test_idx), trainloader, testloader"
      ]
    },
    {
      "cell_type": "code",
      "source": [
        "def augementated_data(datadir, valid_size = .2):\n",
        "    train_transforms = transforms.Compose([\n",
        " transforms.Resize(256),                   \n",
        " transforms.RandomCrop(224),\n",
        " transforms.RandomHorizontalFlip(p=0.5),\n",
        " transforms.RandomVerticalFlip(p=0.5),    \n",
        " transforms.RandomApply(torch.nn.ModuleList([\n",
        "    transforms.ColorJitter(),\n",
        "    transforms.RandomAutocontrast(p=0.5)\n",
        " ]), p=0.3),           \n",
        " transforms.ToTensor(),                    \n",
        " transforms.Normalize(                     \n",
        " mean=[0.485, 0.456, 0.406],               \n",
        " std=[0.229, 0.224, 0.225]                 \n",
        " )])\n",
        "    \n",
        "    test_transforms = transforms.Compose([\n",
        " transforms.Resize(256),                   \n",
        " transforms.CenterCrop(224),               \n",
        " transforms.ToTensor()])\n",
        " \n",
        "    train_data = datasets.ImageFolder(datadir,       \n",
        "                    transform=train_transforms)\n",
        "    test_data = datasets.ImageFolder(datadir,\n",
        "                    transform=test_transforms)\n",
        "    \n",
        "    #for i in train_data:\n",
        "    print(train_data)\n",
        "\n",
        "    num_train = len(train_data)\n",
        "    indices = list(range(num_train))\n",
        "    split = int(np.floor(valid_size * num_train))\n",
        "    np.random.shuffle(indices)\n",
        "    from torch.utils.data.sampler import SubsetRandomSampler\n",
        "    train_idx, test_idx = indices[split:], indices[:split]\n",
        "    train_sampler = SubsetRandomSampler(train_idx)\n",
        "    test_sampler = SubsetRandomSampler(test_idx)\n",
        "    trainloader = torch.utils.data.DataLoader(train_data,\n",
        "                   sampler=train_sampler, batch_size=batch_size, num_workers = 2)\n",
        "    testloader = torch.utils.data.DataLoader(test_data,\n",
        "                   sampler=test_sampler, batch_size=batch_size, num_workers = 2)\n",
        "    return len(train_idx), len(test_idx), trainloader, testloader"
      ],
      "metadata": {
        "id": "vl2hdqoBvjls"
      },
      "execution_count": null,
      "outputs": []
    },
    {
      "cell_type": "code",
      "execution_count": null,
      "metadata": {
        "id": "a5UV0V-b2km6"
      },
      "outputs": [],
      "source": [
        "def imshow(image, ax=None, title=None, normalize=True):\n",
        "    \"\"\"Imshow for Tensor.\"\"\"\n",
        "    if ax is None:\n",
        "        fig, ax = plt.subplots()\n",
        "    image = image.numpy().transpose((1, 2, 0))\n",
        "\n",
        "    if normalize:\n",
        "        mean = np.array([0.5, 0.5, 0.5])\n",
        "        std = np.array([0.5, 0.5, 0.5])\n",
        "        image = std * image + mean\n",
        "        image = np.clip(image, 0, 1)\n",
        "\n",
        "    ax.imshow(image)\n",
        "    ax.spines['top'].set_visible(False)\n",
        "    ax.spines['right'].set_visible(False)\n",
        "    ax.spines['left'].set_visible(False)\n",
        "    ax.spines['bottom'].set_visible(False)\n",
        "    ax.tick_params(axis='both', length=0)\n",
        "    ax.set_xticklabels('')\n",
        "    ax.set_yticklabels('')\n",
        "\n",
        "    return ax"
      ]
    },
    {
      "cell_type": "code",
      "execution_count": null,
      "metadata": {
        "id": "u8Nv_5zR26GR"
      },
      "outputs": [],
      "source": [
        "device = torch.device(\"cuda\" if torch.cuda.is_available() else \"cpu\")\n",
        "def get_model():\n",
        "  vgg19 = torchvision.models.vgg11(pretrained = True, progress = True)\n",
        "  #vgg19.eval()\n",
        "  vgg19.to(device)\n",
        "  for param in vgg19.parameters():\n",
        "    param.requires_grad = False\n",
        "  number_features = vgg19.classifier[-1].in_features\n",
        "  features = list(vgg19.classifier.children())[:-1] # Remove last layer\n",
        "  features.extend([torch.nn.Linear(number_features, 1024)])\n",
        "  features.extend([torch.nn.ReLU(), nn.Dropout(0.2)])\n",
        "  features.extend([torch.nn.Linear(1024, len(classes))])\n",
        "  vgg19.classifier = torch.nn.Sequential(*features)\n",
        "\n",
        "  vgg19 = vgg19.to(device)\n",
        "\n",
        "  return vgg19"
      ]
    },
    {
      "cell_type": "code",
      "execution_count": null,
      "metadata": {
        "id": "-VGCUtC_3cvS"
      },
      "outputs": [],
      "source": [
        "def hyperparameters(model):\n",
        "  criterion = nn.CrossEntropyLoss()\n",
        "  from torch.optim import lr_scheduler\n",
        "\n",
        "  # Observe that all parameters are being optimized\n",
        "  #optimizer_ft = optim.SGD(model.parameters(), lr=learning_rate, momentum=momentum)\n",
        "\n",
        "  optimizer_ft = optim.Adagrad(model.parameters(), lr=learning_rate, lr_decay=0, weight_decay=0, initial_accumulator_value=0, eps=1e-10)\n",
        "\n",
        "  # Decay LR by a factor of 0.1 every 7 epochs\n",
        "  exp_lr_scheduler = lr_scheduler.StepLR(optimizer_ft, step_size=step_size, gamma=gamma)\n",
        "\n",
        "  return optimizer_ft,exp_lr_scheduler,criterion"
      ]
    },
    {
      "cell_type": "code",
      "execution_count": null,
      "metadata": {
        "id": "opXyeNq1GrfK"
      },
      "outputs": [],
      "source": [
        "def train_model(model, criterion, optimizer, scheduler, PATH_tr, PATH_te, num_epochs=25):\n",
        "    since = time.time()\n",
        "\n",
        "    best_model_wts = copy.deepcopy(model.state_dict())\n",
        "    best_acc = 0.0\n",
        "    epoch = -1\n",
        "    lossl = []\n",
        "    accl = []\n",
        "    te_lossl = []\n",
        "    te_accl = []\n",
        "\n",
        "    #model, optimizer_ft, epoch, te_lossl, te_accl = load(PATH_te, model, optimizer)\n",
        "    #model, optimizer_ft, epoch, lossl, accl = load(PATH_tr, model, optimizer)\n",
        "    \n",
        "\n",
        "    #epoch = 1\n",
        "    for epoch in range(epoch+1, num_epochs):\n",
        "        print('Epoch {}/{}'.format(epoch, num_epochs - 1))\n",
        "        #print(torch.cuda.memory_summary(abbreviated=True))\n",
        "        print('-' * 10)\n",
        "\n",
        "        now = datetime.now().isoformat()\n",
        "        #current_time = now.strftime(\"%H:%M:%S\")\n",
        "        print(now)\n",
        "\n",
        "        # Each epoch has a training and validation phase\n",
        "        for phase in ['train', 'test']:\n",
        "            if phase == 'train':\n",
        "                model.train()  # Set model to training mode\n",
        "            else:\n",
        "                model.eval()   # Set model to evaluate mode\n",
        "\n",
        "            #print('1')\n",
        "            running_loss = 0.0\n",
        "            running_corrects = 0\n",
        "\n",
        "            batch=0\n",
        "\n",
        "            # Iterate over data.\n",
        "            for inputs, labels in dataloaders[phase]:\n",
        "                batch += 1\n",
        "                #print(labels)\n",
        "                inputs = inputs.to(device)\n",
        "                labels = labels.to(device)\n",
        "                \n",
        "                # zero the parameter gradients\n",
        "                optimizer.zero_grad()\n",
        "\n",
        "                # forward\n",
        "                # track history if only in train\n",
        "                with torch.set_grad_enabled(phase == 'train'):\n",
        "                    outputs = model(inputs)\n",
        "                    _, preds = torch.max(outputs, 1)\n",
        "                    loss = criterion(outputs, labels)\n",
        "\n",
        "                    # backward + optimize only if in training phase\n",
        "                    if phase == 'train':\n",
        "                        loss.backward()\n",
        "                        optimizer.step()\n",
        "                        \n",
        "\n",
        "                # statistics\n",
        "                running_loss += loss.item() * inputs.size(0)\n",
        "                running_corrects += torch.sum(preds == labels.data)\n",
        "\n",
        "                batch_loss = (running_loss*batch*batch_size) / dataset_sizes[phase]\n",
        "                batch_acc = (running_corrects.double()*batch*batch_size) / dataset_sizes[phase]\n",
        "            \n",
        "                \n",
        "            if phase == 'train':\n",
        "                scheduler.step()\n",
        "\n",
        "            epoch_loss = running_loss / dataset_sizes[phase]\n",
        "            epoch_acc = running_corrects.double() / dataset_sizes[phase]\n",
        "            \n",
        "            print()\n",
        "            print('{} Loss: {:.4f} Acc: {:.4f}'.format(\n",
        "                phase, epoch_loss, epoch_acc))\n",
        "            \n",
        "            if phase == 'train':\n",
        "              lossl.append(epoch_loss)\n",
        "              accl.append(epoch_acc)\n",
        "              torch.save({\n",
        "              'epoch': epoch,\n",
        "              'model_state_dict': model.state_dict(),\n",
        "              'optimizer_state_dict': optimizer.state_dict(),\n",
        "              'loss': lossl,\n",
        "              'acc': accl\n",
        "              },PATH_tr)\n",
        "\n",
        "            # deep copy the model\n",
        "            if phase == 'test' and epoch_acc > best_acc:\n",
        "                best_acc = epoch_acc\n",
        "                best_model_wts = copy.deepcopy(model.state_dict())\n",
        "\n",
        "        print()\n",
        "\n",
        "    time_elapsed = time.time() - since\n",
        "    print('Training complete in {:.0f}m {:.0f}s'.format(\n",
        "        time_elapsed // 60, time_elapsed % 60))\n",
        "    print('Best val Acc: {:4f}'.format(best_acc))\n",
        "\n",
        "    # load best model weights\n",
        "    model.load_state_dict(best_model_wts)\n",
        "    return model"
      ]
    },
    {
      "cell_type": "code",
      "execution_count": null,
      "metadata": {
        "id": "7ICQsGLPltKG"
      },
      "outputs": [],
      "source": [
        "def load(PATH, model, optimizer):  \n",
        "  checkpoint = torch.load(PATH, map_location=torch.device('cpu'))\n",
        "  model.load_state_dict(checkpoint['model_state_dict'])\n",
        "  optimizer.load_state_dict(checkpoint['optimizer_state_dict'])\n",
        "  epoch = checkpoint['epoch']\n",
        "  epoch_loss = checkpoint['loss']\n",
        "  epoch_acc = checkpoint['acc']\n",
        "  return model, optimizer, epoch, epoch_loss, epoch_acc"
      ]
    },
    {
      "cell_type": "code",
      "execution_count": null,
      "metadata": {
        "id": "BAXyxFi1h3bn"
      },
      "outputs": [],
      "source": [
        "def matplotlib_imshow(img, one_channel=False):\n",
        "    if one_channel:\n",
        "        img = img.mean(dim=0)\n",
        "    img = img / 2 + 0.5     # unnormalize\n",
        "    npimg = img.cpu().numpy()\n",
        "    if one_channel:\n",
        "        plt.imshow(npimg, cmap=\"Greys\")\n",
        "    else:\n",
        "        plt.imshow(np.transpose(npimg, (1, 2, 0)))"
      ]
    },
    {
      "cell_type": "markdown",
      "source": [
        "###No_Augementation VGG11 Transfer Learning"
      ],
      "metadata": {
        "id": "uw_zM7ls0Hf_"
      }
    },
    {
      "cell_type": "code",
      "execution_count": null,
      "metadata": {
        "colab": {
          "base_uri": "https://localhost:8080/",
          "height": 118,
          "referenced_widgets": [
            "2214e415d603467aa4a5bb9e84c0ff96",
            "0de95383cdd24a4989348b0d8d3afae8",
            "875c4c29d6f2455ea96df274367b1fe5",
            "81eb8b0d73cb410e9a6ade67aa56b7e0",
            "ed89e321a5d148b18f13c5c80960b2ad",
            "a6ec986cf0f440d5be5df888128860e6",
            "d41180e1fa064401af70a6b92f974a2f",
            "706fe38d61434a1daa6df4155d090627",
            "ab8451e048904b70a04bc174419c354a",
            "1a1c4a545c684a759d5c0161095ea372",
            "19d305f8771943959f9b6a0cee749cf9"
          ]
        },
        "id": "sT1vyLy43rQ4",
        "outputId": "3ae74af5-5529-448f-91dd-eaee9628175d"
      },
      "outputs": [
        {
          "output_type": "stream",
          "name": "stdout",
          "text": [
            "Drive already mounted at /content/gdrive; to attempt to forcibly remount, call drive.mount(\"/content/gdrive\", force_remount=True).\n",
            "/content/gdrive/My Drive/Kaggle/ML_Assignment4\n",
            "{'train': 55, 'test': 18}\n"
          ]
        },
        {
          "output_type": "stream",
          "name": "stderr",
          "text": [
            "Downloading: \"https://download.pytorch.org/models/vgg11-8a719046.pth\" to /root/.cache/torch/hub/checkpoints/vgg11-8a719046.pth\n"
          ]
        },
        {
          "output_type": "display_data",
          "data": {
            "text/plain": [
              "  0%|          | 0.00/507M [00:00<?, ?B/s]"
            ],
            "application/vnd.jupyter.widget-view+json": {
              "version_major": 2,
              "version_minor": 0,
              "model_id": "2214e415d603467aa4a5bb9e84c0ff96"
            }
          },
          "metadata": {}
        }
      ],
      "source": [
        "import copy\n",
        "\n",
        "classes = ['Articuno', 'Dragonite']\n",
        "batch_size = 4\n",
        "num_epochs = 10\n",
        "learning_rate = 0.01\n",
        "step_size = 10\n",
        "gamma = 0.1\n",
        "momentum = 0.8\n",
        "PATH_tr, PATH_te = setup()\n",
        "#writer = SummaryWriter('/content/gdrive/My Drive/Kaggle/ML_Assignment4/runs/')\n",
        "dataloaders = dict.fromkeys(['train', 'test'])\n",
        "train_len, test_len, dataloaders['train'], dataloaders['test'] = no_transforms('train/', .25)\n",
        "dataset_sizes = {'train':train_len, 'test':test_len}\n",
        "print(dataset_sizes)\n",
        "#images, labels = next(iter(dataloaders['train']))\n",
        "#imshow(images[5], normalize=True);\n",
        "model = get_model()\n",
        "optimizer_ft, exp_lr_scheduler, criterion = hyperparameters(model)\n",
        "\n",
        "\n",
        "#model_ft = train_model(model, criterion, optimizer_ft, exp_lr_scheduler, PATH_tr, PATH_te, num_epochs=num_epochs)"
      ]
    },
    {
      "cell_type": "markdown",
      "source": [
        "###Augementation using transforms VGG Transfer Learning"
      ],
      "metadata": {
        "id": "Bv_kgmNf0RWg"
      }
    },
    {
      "cell_type": "code",
      "source": [
        "import copy\n",
        "\n",
        "classes = ['Articuno', 'Dragonite']\n",
        "batch_size = 4\n",
        "num_epochs = 10\n",
        "learning_rate = 0.01\n",
        "step_size = 10\n",
        "gamma = 0.1\n",
        "momentum = 0.8\n",
        "PATH_tr, PATH_te = setup()\n",
        "writer = SummaryWriter('/content/gdrive/My Drive/Kaggle/ML_Assignment4/runs/')\n",
        "dataloaders = dict.fromkeys(['train', 'test'])\n",
        "train_len, test_len, dataloaders['train'], dataloaders['test'] = augementated_data('train/', .25)\n",
        "dataset_sizes = {'train':train_len, 'test':test_len}\n",
        "print(dataset_sizes)\n",
        "#images, labels = next(iter(dataloaders['train']))\n",
        "#imshow(images[5], normalize=True);\n",
        "model = get_model()\n",
        "optimizer_ft, exp_lr_scheduler, criterion = hyperparameters(model)\n",
        "\n",
        "\n",
        "model_ft = train_model(model, criterion, optimizer_ft, exp_lr_scheduler, PATH_tr, PATH_te, num_epochs=num_epochs)"
      ],
      "metadata": {
        "colab": {
          "base_uri": "https://localhost:8080/"
        },
        "id": "Tmpf9HEt0WxH",
        "outputId": "23d81f9a-214a-4d5c-faf4-dc4b5c1e6e3e"
      },
      "execution_count": null,
      "outputs": [
        {
          "output_type": "stream",
          "name": "stdout",
          "text": [
            "Drive already mounted at /content/gdrive; to attempt to forcibly remount, call drive.mount(\"/content/gdrive\", force_remount=True).\n",
            "/content/gdrive/My Drive/Kaggle/ML_Assignment4\n",
            "Dataset ImageFolder\n",
            "    Number of datapoints: 73\n",
            "    Root location: train/\n",
            "    StandardTransform\n",
            "Transform: Compose(\n",
            "               Resize(size=256, interpolation=bilinear, max_size=None, antialias=None)\n",
            "               RandomCrop(size=(224, 224), padding=None)\n",
            "               RandomHorizontalFlip(p=0.5)\n",
            "               RandomVerticalFlip(p=0.5)\n",
            "               RandomApply(\n",
            "               p=0.3\n",
            "               ColorJitter(brightness=None, contrast=None, saturation=None, hue=None)\n",
            "               RandomAutocontrast(p=0.5)\n",
            "           )\n",
            "               ToTensor()\n",
            "               Normalize(mean=[0.485, 0.456, 0.406], std=[0.229, 0.224, 0.225])\n",
            "           )\n",
            "{'train': 55, 'test': 18}\n",
            "Epoch 0/9\n",
            "----------\n",
            "2022-04-15T06:09:24.939883\n",
            "\n",
            "train Loss: 4.4808 Acc: 0.7273\n",
            "\n",
            "test Loss: 0.5227 Acc: 0.8889\n",
            "\n",
            "Epoch 1/9\n",
            "----------\n",
            "2022-04-15T06:10:23.807692\n",
            "\n",
            "train Loss: 0.1824 Acc: 0.9273\n",
            "\n",
            "test Loss: 0.5322 Acc: 0.8889\n",
            "\n",
            "Epoch 2/9\n",
            "----------\n",
            "2022-04-15T06:11:00.845173\n",
            "\n",
            "train Loss: 0.0115 Acc: 1.0000\n",
            "\n",
            "test Loss: 0.4104 Acc: 0.9444\n",
            "\n",
            "Epoch 3/9\n",
            "----------\n",
            "2022-04-15T06:11:40.496603\n",
            "\n",
            "train Loss: 0.0021 Acc: 1.0000\n",
            "\n",
            "test Loss: 0.4748 Acc: 0.8889\n",
            "\n",
            "Epoch 4/9\n",
            "----------\n",
            "2022-04-15T06:12:19.514558\n",
            "\n",
            "train Loss: 0.1439 Acc: 0.9818\n",
            "\n",
            "test Loss: 0.4141 Acc: 0.8333\n",
            "\n",
            "Epoch 5/9\n",
            "----------\n",
            "2022-04-15T06:12:57.739794\n",
            "\n",
            "train Loss: 0.0171 Acc: 0.9818\n",
            "\n",
            "test Loss: 0.4625 Acc: 0.8889\n",
            "\n",
            "Epoch 6/9\n",
            "----------\n",
            "2022-04-15T06:13:36.420863\n",
            "\n",
            "train Loss: 0.0473 Acc: 0.9818\n",
            "\n",
            "test Loss: 0.7256 Acc: 0.9444\n",
            "\n",
            "Epoch 7/9\n",
            "----------\n",
            "2022-04-15T06:14:14.496014\n",
            "\n",
            "train Loss: 0.0008 Acc: 1.0000\n",
            "\n",
            "test Loss: 0.6744 Acc: 0.9444\n",
            "\n",
            "Epoch 8/9\n",
            "----------\n",
            "2022-04-15T06:14:53.005724\n",
            "\n",
            "train Loss: 0.0032 Acc: 1.0000\n",
            "\n",
            "test Loss: 0.5439 Acc: 0.8889\n",
            "\n",
            "Epoch 9/9\n",
            "----------\n",
            "2022-04-15T06:15:36.876230\n",
            "\n",
            "train Loss: 0.0000 Acc: 1.0000\n",
            "\n",
            "test Loss: 0.5561 Acc: 0.8889\n",
            "\n",
            "Training complete in 6m 55s\n",
            "Best val Acc: 0.944444\n"
          ]
        }
      ]
    },
    {
      "cell_type": "code",
      "execution_count": null,
      "metadata": {
        "id": "WAtfGj44o-bc"
      },
      "outputs": [],
      "source": [
        "model, optimizer_ft, epoch, lossl, accl = load(PATH_tr, model, optimizer_ft)\n"
      ]
    },
    {
      "cell_type": "code",
      "source": [
        ""
      ],
      "metadata": {
        "id": "0qki-xhgpUyF"
      },
      "execution_count": null,
      "outputs": []
    }
  ],
  "metadata": {
    "colab": {
      "collapsed_sections": [],
      "name": "Assignment4.ipynb",
      "provenance": []
    },
    "kernelspec": {
      "display_name": "Python 3",
      "name": "python3"
    },
    "language_info": {
      "name": "python"
    },
    "widgets": {
      "application/vnd.jupyter.widget-state+json": {
        "2214e415d603467aa4a5bb9e84c0ff96": {
          "model_module": "@jupyter-widgets/controls",
          "model_name": "HBoxModel",
          "model_module_version": "1.5.0",
          "state": {
            "_dom_classes": [],
            "_model_module": "@jupyter-widgets/controls",
            "_model_module_version": "1.5.0",
            "_model_name": "HBoxModel",
            "_view_count": null,
            "_view_module": "@jupyter-widgets/controls",
            "_view_module_version": "1.5.0",
            "_view_name": "HBoxView",
            "box_style": "",
            "children": [
              "IPY_MODEL_0de95383cdd24a4989348b0d8d3afae8",
              "IPY_MODEL_875c4c29d6f2455ea96df274367b1fe5",
              "IPY_MODEL_81eb8b0d73cb410e9a6ade67aa56b7e0"
            ],
            "layout": "IPY_MODEL_ed89e321a5d148b18f13c5c80960b2ad"
          }
        },
        "0de95383cdd24a4989348b0d8d3afae8": {
          "model_module": "@jupyter-widgets/controls",
          "model_name": "HTMLModel",
          "model_module_version": "1.5.0",
          "state": {
            "_dom_classes": [],
            "_model_module": "@jupyter-widgets/controls",
            "_model_module_version": "1.5.0",
            "_model_name": "HTMLModel",
            "_view_count": null,
            "_view_module": "@jupyter-widgets/controls",
            "_view_module_version": "1.5.0",
            "_view_name": "HTMLView",
            "description": "",
            "description_tooltip": null,
            "layout": "IPY_MODEL_a6ec986cf0f440d5be5df888128860e6",
            "placeholder": "​",
            "style": "IPY_MODEL_d41180e1fa064401af70a6b92f974a2f",
            "value": "100%"
          }
        },
        "875c4c29d6f2455ea96df274367b1fe5": {
          "model_module": "@jupyter-widgets/controls",
          "model_name": "FloatProgressModel",
          "model_module_version": "1.5.0",
          "state": {
            "_dom_classes": [],
            "_model_module": "@jupyter-widgets/controls",
            "_model_module_version": "1.5.0",
            "_model_name": "FloatProgressModel",
            "_view_count": null,
            "_view_module": "@jupyter-widgets/controls",
            "_view_module_version": "1.5.0",
            "_view_name": "ProgressView",
            "bar_style": "success",
            "description": "",
            "description_tooltip": null,
            "layout": "IPY_MODEL_706fe38d61434a1daa6df4155d090627",
            "max": 531460341,
            "min": 0,
            "orientation": "horizontal",
            "style": "IPY_MODEL_ab8451e048904b70a04bc174419c354a",
            "value": 531460341
          }
        },
        "81eb8b0d73cb410e9a6ade67aa56b7e0": {
          "model_module": "@jupyter-widgets/controls",
          "model_name": "HTMLModel",
          "model_module_version": "1.5.0",
          "state": {
            "_dom_classes": [],
            "_model_module": "@jupyter-widgets/controls",
            "_model_module_version": "1.5.0",
            "_model_name": "HTMLModel",
            "_view_count": null,
            "_view_module": "@jupyter-widgets/controls",
            "_view_module_version": "1.5.0",
            "_view_name": "HTMLView",
            "description": "",
            "description_tooltip": null,
            "layout": "IPY_MODEL_1a1c4a545c684a759d5c0161095ea372",
            "placeholder": "​",
            "style": "IPY_MODEL_19d305f8771943959f9b6a0cee749cf9",
            "value": " 507M/507M [00:03&lt;00:00, 147MB/s]"
          }
        },
        "ed89e321a5d148b18f13c5c80960b2ad": {
          "model_module": "@jupyter-widgets/base",
          "model_name": "LayoutModel",
          "model_module_version": "1.2.0",
          "state": {
            "_model_module": "@jupyter-widgets/base",
            "_model_module_version": "1.2.0",
            "_model_name": "LayoutModel",
            "_view_count": null,
            "_view_module": "@jupyter-widgets/base",
            "_view_module_version": "1.2.0",
            "_view_name": "LayoutView",
            "align_content": null,
            "align_items": null,
            "align_self": null,
            "border": null,
            "bottom": null,
            "display": null,
            "flex": null,
            "flex_flow": null,
            "grid_area": null,
            "grid_auto_columns": null,
            "grid_auto_flow": null,
            "grid_auto_rows": null,
            "grid_column": null,
            "grid_gap": null,
            "grid_row": null,
            "grid_template_areas": null,
            "grid_template_columns": null,
            "grid_template_rows": null,
            "height": null,
            "justify_content": null,
            "justify_items": null,
            "left": null,
            "margin": null,
            "max_height": null,
            "max_width": null,
            "min_height": null,
            "min_width": null,
            "object_fit": null,
            "object_position": null,
            "order": null,
            "overflow": null,
            "overflow_x": null,
            "overflow_y": null,
            "padding": null,
            "right": null,
            "top": null,
            "visibility": null,
            "width": null
          }
        },
        "a6ec986cf0f440d5be5df888128860e6": {
          "model_module": "@jupyter-widgets/base",
          "model_name": "LayoutModel",
          "model_module_version": "1.2.0",
          "state": {
            "_model_module": "@jupyter-widgets/base",
            "_model_module_version": "1.2.0",
            "_model_name": "LayoutModel",
            "_view_count": null,
            "_view_module": "@jupyter-widgets/base",
            "_view_module_version": "1.2.0",
            "_view_name": "LayoutView",
            "align_content": null,
            "align_items": null,
            "align_self": null,
            "border": null,
            "bottom": null,
            "display": null,
            "flex": null,
            "flex_flow": null,
            "grid_area": null,
            "grid_auto_columns": null,
            "grid_auto_flow": null,
            "grid_auto_rows": null,
            "grid_column": null,
            "grid_gap": null,
            "grid_row": null,
            "grid_template_areas": null,
            "grid_template_columns": null,
            "grid_template_rows": null,
            "height": null,
            "justify_content": null,
            "justify_items": null,
            "left": null,
            "margin": null,
            "max_height": null,
            "max_width": null,
            "min_height": null,
            "min_width": null,
            "object_fit": null,
            "object_position": null,
            "order": null,
            "overflow": null,
            "overflow_x": null,
            "overflow_y": null,
            "padding": null,
            "right": null,
            "top": null,
            "visibility": null,
            "width": null
          }
        },
        "d41180e1fa064401af70a6b92f974a2f": {
          "model_module": "@jupyter-widgets/controls",
          "model_name": "DescriptionStyleModel",
          "model_module_version": "1.5.0",
          "state": {
            "_model_module": "@jupyter-widgets/controls",
            "_model_module_version": "1.5.0",
            "_model_name": "DescriptionStyleModel",
            "_view_count": null,
            "_view_module": "@jupyter-widgets/base",
            "_view_module_version": "1.2.0",
            "_view_name": "StyleView",
            "description_width": ""
          }
        },
        "706fe38d61434a1daa6df4155d090627": {
          "model_module": "@jupyter-widgets/base",
          "model_name": "LayoutModel",
          "model_module_version": "1.2.0",
          "state": {
            "_model_module": "@jupyter-widgets/base",
            "_model_module_version": "1.2.0",
            "_model_name": "LayoutModel",
            "_view_count": null,
            "_view_module": "@jupyter-widgets/base",
            "_view_module_version": "1.2.0",
            "_view_name": "LayoutView",
            "align_content": null,
            "align_items": null,
            "align_self": null,
            "border": null,
            "bottom": null,
            "display": null,
            "flex": null,
            "flex_flow": null,
            "grid_area": null,
            "grid_auto_columns": null,
            "grid_auto_flow": null,
            "grid_auto_rows": null,
            "grid_column": null,
            "grid_gap": null,
            "grid_row": null,
            "grid_template_areas": null,
            "grid_template_columns": null,
            "grid_template_rows": null,
            "height": null,
            "justify_content": null,
            "justify_items": null,
            "left": null,
            "margin": null,
            "max_height": null,
            "max_width": null,
            "min_height": null,
            "min_width": null,
            "object_fit": null,
            "object_position": null,
            "order": null,
            "overflow": null,
            "overflow_x": null,
            "overflow_y": null,
            "padding": null,
            "right": null,
            "top": null,
            "visibility": null,
            "width": null
          }
        },
        "ab8451e048904b70a04bc174419c354a": {
          "model_module": "@jupyter-widgets/controls",
          "model_name": "ProgressStyleModel",
          "model_module_version": "1.5.0",
          "state": {
            "_model_module": "@jupyter-widgets/controls",
            "_model_module_version": "1.5.0",
            "_model_name": "ProgressStyleModel",
            "_view_count": null,
            "_view_module": "@jupyter-widgets/base",
            "_view_module_version": "1.2.0",
            "_view_name": "StyleView",
            "bar_color": null,
            "description_width": ""
          }
        },
        "1a1c4a545c684a759d5c0161095ea372": {
          "model_module": "@jupyter-widgets/base",
          "model_name": "LayoutModel",
          "model_module_version": "1.2.0",
          "state": {
            "_model_module": "@jupyter-widgets/base",
            "_model_module_version": "1.2.0",
            "_model_name": "LayoutModel",
            "_view_count": null,
            "_view_module": "@jupyter-widgets/base",
            "_view_module_version": "1.2.0",
            "_view_name": "LayoutView",
            "align_content": null,
            "align_items": null,
            "align_self": null,
            "border": null,
            "bottom": null,
            "display": null,
            "flex": null,
            "flex_flow": null,
            "grid_area": null,
            "grid_auto_columns": null,
            "grid_auto_flow": null,
            "grid_auto_rows": null,
            "grid_column": null,
            "grid_gap": null,
            "grid_row": null,
            "grid_template_areas": null,
            "grid_template_columns": null,
            "grid_template_rows": null,
            "height": null,
            "justify_content": null,
            "justify_items": null,
            "left": null,
            "margin": null,
            "max_height": null,
            "max_width": null,
            "min_height": null,
            "min_width": null,
            "object_fit": null,
            "object_position": null,
            "order": null,
            "overflow": null,
            "overflow_x": null,
            "overflow_y": null,
            "padding": null,
            "right": null,
            "top": null,
            "visibility": null,
            "width": null
          }
        },
        "19d305f8771943959f9b6a0cee749cf9": {
          "model_module": "@jupyter-widgets/controls",
          "model_name": "DescriptionStyleModel",
          "model_module_version": "1.5.0",
          "state": {
            "_model_module": "@jupyter-widgets/controls",
            "_model_module_version": "1.5.0",
            "_model_name": "DescriptionStyleModel",
            "_view_count": null,
            "_view_module": "@jupyter-widgets/base",
            "_view_module_version": "1.2.0",
            "_view_name": "StyleView",
            "description_width": ""
          }
        }
      }
    }
  },
  "nbformat": 4,
  "nbformat_minor": 0
}